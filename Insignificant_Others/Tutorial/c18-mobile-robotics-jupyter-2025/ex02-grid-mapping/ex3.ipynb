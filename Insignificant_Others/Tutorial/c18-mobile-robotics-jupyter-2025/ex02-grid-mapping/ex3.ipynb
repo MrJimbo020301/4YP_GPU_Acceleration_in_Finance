{
 "cells": [
  {
   "cell_type": "markdown",
   "metadata": {},
   "source": [
    "# Exercise 3 [10.0]\n",
    "\n",
    "## Occupancy grid mapping\n",
    "\n",
    "The aim of this assignment is to implement a 2D occupancy grid mapping algorithm as described in the lecture. We provide data recorded by a robot using a 2D laser scanner in an indoor environment. \n",
    "\n",
    "The raw data is arranged in the following manner:\n",
    "\n",
    "- `poses.data`: contains the **known** robot poses as it moves around the environment. Each line corresponds to the pose of the robot at a time instant\n",
    "\n",
    "- `ranges.data`: contains 2d laser range measurements recorded by the robot. Each line corresponds to the range measurements taken from the corresponding robot poses.\n",
    "\n",
    "---\n",
    "\n",
    "### Log odds to probability [2.0]\n",
    "\n",
    "The occupancy calculations are usually performed using the log odds. We will need to convert between log odds and probabilities in this exercise. Implement the `logodds2prob` and `prob2logodds` functions. Verify that the conversion functions are correct for some test input. "
   ]
  },
  {
   "cell_type": "code",
   "execution_count": 1,
   "metadata": {},
   "outputs": [
    {
     "name": "stdout",
     "output_type": "stream",
     "text": [
      "-11.512915464920228\n",
      "0.0\n",
      "11.51291546492478\n",
      "0.5\n",
      "0.0\n",
      "1.0\n"
     ]
    }
   ],
   "source": [
    "import ex3 as ex\n",
    "from ex3 import *\n",
    "\n",
    "print(ex.prob2logodds(0))\n",
    "print(ex.prob2logodds(0.5))\n",
    "print(ex.prob2logodds(0.9999999999))\n",
    "print(ex.logodds2prob(0))\n",
    "print(ex.logodds2prob(-float(\"inf\")))\n",
    "print(ex.logodds2prob(float(\"inf\")))"
   ]
  },
  {
   "cell_type": "markdown",
   "metadata": {},
   "source": [
    "---\n",
    "### Inverse sensor model [2.0]\n",
    "\n",
    "The occupancy grid mapping relies on as inverse sensor model to update the occupancy of a cell in the grid. For this exercise, we consider a simple sensor model, where the occupancy of cell $m_i$ is $P_{occ}$ if the measurement $z_t$ falls in that cell, otherwise the occupancy is $P_{free}$. \n",
    "\n",
    "However, if the cell $m_i$ is not in the perception field, the occupancy will be $P_{prior}$.\n",
    "\n",
    "Use the  following probabilities in the implementation:\n",
    "$$P_{occ} = 0.9, P_{free} = 0.35, P_{prior} = 0.5 $$\n",
    "\n",
    "Implement the inverse sensor model function and verify that it is correct for some test input. "
   ]
  },
  {
   "cell_type": "code",
   "execution_count": 2,
   "metadata": {},
   "outputs": [
    {
     "name": "stdout",
     "output_type": "stream",
     "text": [
      "0.35\n",
      "0.9\n"
     ]
    }
   ],
   "source": [
    "import numpy as np\n",
    "import ex3 as ex\n",
    "from ex3 import *\n",
    "\n",
    "prob_occ = 0.9\n",
    "prob_free = 0.35\n",
    "endpoint = [200,200]\n",
    "cell1 = [100,250]\n",
    "prob_cell1 = ex.inv_sensor_model(cell1, endpoint, prob_occ, prob_free)\n",
    "print(prob_cell1)\n",
    "cell2 = [200,200]\n",
    "prob_cell2 = ex.inv_sensor_model(cell2, endpoint, prob_occ, prob_free)\n",
    "print(prob_cell2)"
   ]
  },
  {
   "cell_type": "markdown",
   "metadata": {},
   "source": [
    "---\n",
    "### Occupancy grid mapping algorithm [6.0]:\n",
    "\n",
    "Implement the occupancy grid mapping algorithm as described in lecture slides. \n",
    "\n",
    "We provide some functions to make the implemntation easier.\n",
    "\n",
    "- `ranges2cells` converts the raw measurements acquired by the robot (*ranges_raw*) into the correspoding cells of the gridmap.\n",
    "- `poses2cells` converts the raw poses of the robot (*poses_raw*) into the correspoding cells of the gridmap.\n",
    "- `bresenham` returns all the cells along a straigh line between two points in the gridmap.\n",
    "\n",
    "Other parameters you may need in the implemntation are provided below.\n",
    "\n",
    "Implement the `grid_mapping_with_known_poses` functionn and compute the resulting occupancy grid map using all the measurements provided in the data.\n",
    "\n",
    "Plot the final occupancy gridmap using the `plot_gridmap` function. \n"
   ]
  },
  {
   "cell_type": "code",
   "execution_count": 7,
   "metadata": {},
   "outputs": [
    {
     "data": {
      "image/png": "[encoded data removed]",
      "text/plain": [
       "<Figure size 640x480 with 1 Axes>"
      ]
     },
     "metadata": {},
     "output_type": "display_data"
    }
   ],
   "source": [
    "import ex3 as ex\n",
    "import numpy as np\n",
    "%matplotlib inline\n",
    "\n",
    "map_size = 100\n",
    "map_res = 0.25\n",
    "\n",
    "prior = 0.50\n",
    "prob_occ = 0.90\n",
    "prob_free = 0.35\n",
    "\n",
    "# load data\n",
    "ranges_raw = np.loadtxt(\"ranges.data\", delimiter=',', dtype='float')\n",
    "poses_raw = np.loadtxt(\"poses.data\", delimiter=',', dtype='float')\n",
    "\n",
    "# initialize gridmap\n",
    "occ_gridmap = ex.init_gridmap(map_size, map_res)+prior\n",
    "ex.plot_gridmap(occ_gridmap)\n",
    "\n"
   ]
  },
  {
   "cell_type": "code",
   "execution_count": null,
   "metadata": {},
   "outputs": [],
   "source": [
    "occ_gridmap = ex.grid_mapping_with_known_poses(ranges_raw, poses_raw, occ_gridmap, map_res, prob_occ, prob_free, prior)\n",
    "ex.plot_gridmap(occ_gridmap)"
   ]
  },
  {
   "cell_type": "code",
   "execution_count": 8,
   "metadata": {},
   "outputs": [
    {
     "data": {
      "image/png": "[encoded data removed]",
      "text/plain": [
       "<Figure size 640x480 with 1 Axes>"
      ]
     },
     "metadata": {},
     "output_type": "display_data"
    }
   ],
   "source": [
    "import numpy as np\n",
    "import ex3\n",
    "\n",
    "# 1. Initialize map\n",
    "map_size = 50.0    # 50 meters\n",
    "map_res = 0.5      # 0.5 m per cell\n",
    "occ_gridmap = ex3.init_gridmap(map_size, map_res)\n",
    "\n",
    "# 2. Create or load data\n",
    "# Suppose we have 360 beams per scan, 10 scans total\n",
    "num_beams = 360\n",
    "num_scans = 10\n",
    "\n",
    "# Dummy data: all ranges are 8.0\n",
    "ranges_raw = 8.0 * np.ones((num_beams, num_scans))\n",
    "# Robot is always at [0,0,0], 10 times\n",
    "poses_raw = np.zeros((num_scans, 3))\n",
    "\n",
    "# 3. Sensor model + prior\n",
    "prob_occ  = 0.7\n",
    "prob_free = 0.3\n",
    "prior     = 0.5\n",
    "\n",
    "# 4. Initial grid is all zeros => ex3.plot_gridmap(occ_gridmap) if desired\n",
    "\n",
    "# 5. Run the mapping\n",
    "final_map = ex3.grid_mapping_with_known_poses(ranges_raw, poses_raw,\n",
    "                                              occ_gridmap, map_res,\n",
    "                                              prob_occ, prob_free, prior)\n",
    "\n",
    "# 6. Plot final map\n",
    "ex3.plot_gridmap(final_map)\n"
   ]
  }
 ],
 "metadata": {
  "kernelspec": {
   "display_name": "pytorch",
   "language": "python",
   "name": "python3"
  },
  "language_info": {
   "codemirror_mode": {
    "name": "ipython",
    "version": 3
   },
   "file_extension": ".py",
   "mimetype": "text/x-python",
   "name": "python",
   "nbconvert_exporter": "python",
   "pygments_lexer": "ipython3",
   "version": "3.12.7"
  }
 },
 "nbformat": 4,
 "nbformat_minor": 4
}
